{
 "cells": [
  {
   "cell_type": "markdown",
   "metadata": {},
   "source": [
    "# Direct Marketing with Amazon SageMaker Autopilot\n",
    "---\n",
    "\n",
    "---"
   ]
  },
  {
   "cell_type": "markdown",
   "metadata": {},
   "source": [
    "## Introduction\n",
    "\n",
    "Amazon SageMaker Autopilot is an automated machine learning (commonly referred to as AutoML) solution for tabular datasets. You can use SageMaker Autopilot in different ways: on autopilot (hence the name) or with human guidance, without code through SageMaker Studio, or using the AWS SDKs. This notebook, as a first glimpse, will use the AWS SDKs to simply create and deploy a machine learning model.\n"
   ]
  },
  {
   "cell_type": "markdown",
   "metadata": {},
   "source": [
    "## Prerequisites\n",
    "\n",
    "Before you start the tasks in this tutorial, do the following:\n",
    "\n",
    "- The Amazon Simple Storage Service (Amazon S3) bucket and prefix that you want to use for training and model data. This should be within the same Region as Amazon SageMaker training. The code below will create, or if it exists, use, the default bucket.\n",
    "- The IAM role to give Autopilot access to your data. See the Amazon SageMaker documentation for more information on IAM roles: https://docs.aws.amazon.com/sagemaker/latest/dg/security-iam.html"
   ]
  },
  {
   "cell_type": "code",
   "execution_count": 9,
   "metadata": {},
   "outputs": [],
   "source": [
    "import sagemaker\n",
    "import boto3\n",
    "from sagemaker import get_execution_role\n",
    "\n",
    "region = boto3.Session().region_name\n",
    "\n",
    "session = sagemaker.Session()\n",
    "bucket = session.default_bucket()\n",
    "prefix = 'sagemaker/autopilot-dm'\n",
    "\n",
    "role = get_execution_role()\n",
    "\n",
    "sm = boto3.Session().client(service_name='sagemaker',region_name=region)"
   ]
  },
  {
   "cell_type": "markdown",
   "metadata": {},
   "source": [
    "## loading the dataset<a name=\"loading\"></a>\n"
   ]
  },
  {
   "cell_type": "code",
   "execution_count": 10,
   "metadata": {},
   "outputs": [
    {
     "name": "stdout",
     "output_type": "stream",
     "text": [
      "./slug_menu.csv\n"
     ]
    }
   ],
   "source": [
    "!#wget -N https://archive.ics.uci.edu/ml/machine-learning-databases/00222/bank-additional.zip\n",
    "!#unzip -o bank-additional.zip\n",
    "\n",
    "local_data_path = './slug_menu.csv'\n",
    "print(local_data_path)"
   ]
  },
  {
   "cell_type": "markdown",
   "metadata": {
    "toc-hr-collapsed": true
   },
   "source": [
    "## Upload the dataset to Amazon S3<a name=\"Uploading\"></a>\n",
    "\n",
    "Before you run Autopilot on the dataset, first perform a check of the dataset to make sure that it has no obvious errors. If you have a larger dataset that will not fit in a notebook instance memory, inspect the dataset offline using a big data analytics tool like Apache Spark. [Deequ](https://github.com/awslabs/deequ) is a library built on top of Apache Spark that can be helpful for performing checks on large datasets. Autopilot is capable of handling datasets up to 5 GB.\n"
   ]
  },
  {
   "cell_type": "markdown",
   "metadata": {},
   "source": [
    "Read the data into a Pandas data frame and take a look."
   ]
  },
  {
   "cell_type": "code",
   "execution_count": 11,
   "metadata": {},
   "outputs": [
    {
     "data": {
      "text/html": [
       "<div>\n",
       "<style scoped>\n",
       "    .dataframe tbody tr th:only-of-type {\n",
       "        vertical-align: middle;\n",
       "    }\n",
       "\n",
       "    .dataframe tbody tr th {\n",
       "        vertical-align: top;\n",
       "    }\n",
       "\n",
       "    .dataframe thead th {\n",
       "        text-align: right;\n",
       "    }\n",
       "</style>\n",
       "<table border=\"1\" class=\"dataframe\">\n",
       "  <thead>\n",
       "    <tr style=\"text-align: right;\">\n",
       "      <th></th>\n",
       "      <th>slug</th>\n",
       "      <th>menu</th>\n",
       "      <th>slug.1</th>\n",
       "      <th>categories</th>\n",
       "      <th>distance</th>\n",
       "      <th>name</th>\n",
       "      <th>price_level</th>\n",
       "      <th>rating</th>\n",
       "      <th>review_count</th>\n",
       "      <th>url</th>\n",
       "      <th>lat</th>\n",
       "      <th>lng</th>\n",
       "      <th>Sp1</th>\n",
       "      <th>type</th>\n",
       "      <th>homeurl</th>\n",
       "      <th>resource_id1</th>\n",
       "      <th>resource_id2</th>\n",
       "      <th>lat2</th>\n",
       "      <th>lng2</th>\n",
       "    </tr>\n",
       "  </thead>\n",
       "  <tbody>\n",
       "    <tr>\n",
       "      <th>0</th>\n",
       "      <td>slug</td>\n",
       "      <td>menu</td>\n",
       "      <td>slug</td>\n",
       "      <td>categories</td>\n",
       "      <td>distance</td>\n",
       "      <td>name</td>\n",
       "      <td>price_level</td>\n",
       "      <td>rating</td>\n",
       "      <td>review_count</td>\n",
       "      <td>url</td>\n",
       "      <td>lat</td>\n",
       "      <td>lng</td>\n",
       "      <td>Sp1</td>\n",
       "      <td>type</td>\n",
       "      <td>homeurl</td>\n",
       "      <td>resource_id1</td>\n",
       "      <td>resource_id2</td>\n",
       "      <td>lat2</td>\n",
       "      <td>lng2</td>\n",
       "    </tr>\n",
       "    <tr>\n",
       "      <th>1</th>\n",
       "      <td>1-2-3-pho-and-asian-cafe-englewood</td>\n",
       "      <td>A1. Vietnamese Crispy Spring Rolls 3 piece. 6....</td>\n",
       "      <td>1-2-3-pho-and-asian-cafe-englewood</td>\n",
       "      <td>Vietnamese, Chinese, Sushi Bars</td>\n",
       "      <td>5.6 mi</td>\n",
       "      <td>1 2 3 Pho &amp; Asian Cafe</td>\n",
       "      <td>$$</td>\n",
       "      <td>3.50993377483</td>\n",
       "      <td>151</td>\n",
       "      <td>https://m.yelp.com/biz/1-2-3-pho-and-asian-caf...</td>\n",
       "      <td>39.5368356</td>\n",
       "      <td>-104.8536173</td>\n",
       "      <td>NaN</td>\n",
       "      <td>natural</td>\n",
       "      <td>/biz/1-2-3-pho-and-asian-cafe-englewood</td>\n",
       "      <td>dVsoRXXEeYslIq3egO984Q</td>\n",
       "      <td>M0loTtLIh4F4gCinGTaCsA</td>\n",
       "      <td>39.5368356</td>\n",
       "      <td>-104.8536173</td>\n",
       "    </tr>\n",
       "    <tr>\n",
       "      <th>2</th>\n",
       "      <td>1-chinese-kitchen-san-jose-2</td>\n",
       "      <td>Thai Iced Tea  4.5, Vietnamese Iced Coffee  4....</td>\n",
       "      <td>1-chinese-kitchen-san-jose-2</td>\n",
       "      <td>Chinese, Caterers</td>\n",
       "      <td>0.5 mi</td>\n",
       "      <td>#1 Chinese Kitchen</td>\n",
       "      <td>$</td>\n",
       "      <td>3.70448548813</td>\n",
       "      <td>379</td>\n",
       "      <td>https://m.yelp.com/biz/1-chinese-kitchen-san-j...</td>\n",
       "      <td>37.252168258</td>\n",
       "      <td>-121.831224679</td>\n",
       "      <td>NaN</td>\n",
       "      <td>natural</td>\n",
       "      <td>/biz/1-chinese-kitchen-san-jose-2</td>\n",
       "      <td>_us5qOY9AafKtmBdje6mIg</td>\n",
       "      <td>TsIah2X2urWVxVP4nrwhFA</td>\n",
       "      <td>37.252168258</td>\n",
       "      <td>-121.831224679</td>\n",
       "    </tr>\n",
       "    <tr>\n",
       "      <th>3</th>\n",
       "      <td>1-columbia-deli-new-york</td>\n",
       "      <td>S1. Mango Sunrise Smoothie Mango, pineapple, b...</td>\n",
       "      <td>1-columbia-deli-new-york</td>\n",
       "      <td>Delis</td>\n",
       "      <td>0.2 mi</td>\n",
       "      <td>#1 Columbia Deli</td>\n",
       "      <td>NaN</td>\n",
       "      <td>NaN</td>\n",
       "      <td>0</td>\n",
       "      <td>https://m.yelp.com/biz/1-columbia-deli-new-york</td>\n",
       "      <td>40.8117962</td>\n",
       "      <td>-73.9576436</td>\n",
       "      <td>NaN</td>\n",
       "      <td>natural</td>\n",
       "      <td>/biz/1-columbia-deli-new-york</td>\n",
       "      <td>ZJRC1aIv4CIG6qMKZCR2bQ</td>\n",
       "      <td>3hiuYqihbILBQ7EZCp19ZQ</td>\n",
       "      <td>40.8117962</td>\n",
       "      <td>-73.9576436</td>\n",
       "    </tr>\n",
       "    <tr>\n",
       "      <th>4</th>\n",
       "      <td>10-barrel-brewing-san-diego-san-diego</td>\n",
       "      <td>Apocalypse IPA He send is near. Apocalypse is ...</td>\n",
       "      <td>10-barrel-brewing-san-diego-san-diego</td>\n",
       "      <td>Breweries, Pubs, American (Traditional)</td>\n",
       "      <td>2.1 mi</td>\n",
       "      <td>10 Barrel Brewing - San Diego</td>\n",
       "      <td>$$</td>\n",
       "      <td>4.52427184466</td>\n",
       "      <td>412</td>\n",
       "      <td>https://m.yelp.com/biz/10-barrel-brewing-san-d...</td>\n",
       "      <td>32.7145590497</td>\n",
       "      <td>-117.150228582</td>\n",
       "      <td>NaN</td>\n",
       "      <td>natural</td>\n",
       "      <td>/biz/10-barrel-brewing-san-diego-san-diego</td>\n",
       "      <td>8nEOrZJXEPbB7omJwyM1JQ</td>\n",
       "      <td>Xm502NvgzMVjdue1JAkejw</td>\n",
       "      <td>32.7145590497</td>\n",
       "      <td>-117.150228582</td>\n",
       "    </tr>\n",
       "    <tr>\n",
       "      <th>...</th>\n",
       "      <td>...</td>\n",
       "      <td>...</td>\n",
       "      <td>...</td>\n",
       "      <td>...</td>\n",
       "      <td>...</td>\n",
       "      <td>...</td>\n",
       "      <td>...</td>\n",
       "      <td>...</td>\n",
       "      <td>...</td>\n",
       "      <td>...</td>\n",
       "      <td>...</td>\n",
       "      <td>...</td>\n",
       "      <td>...</td>\n",
       "      <td>...</td>\n",
       "      <td>...</td>\n",
       "      <td>...</td>\n",
       "      <td>...</td>\n",
       "      <td>...</td>\n",
       "      <td>...</td>\n",
       "    </tr>\n",
       "    <tr>\n",
       "      <th>28051</th>\n",
       "      <td>zyka-decatur</td>\n",
       "      <td>Tandoori Chicken chicken leg quarter marinated...</td>\n",
       "      <td>zyka-decatur</td>\n",
       "      <td>Indian, Pakistani</td>\n",
       "      <td>11.0 mi</td>\n",
       "      <td>Zyka</td>\n",
       "      <td>$$</td>\n",
       "      <td>3.8908819133</td>\n",
       "      <td>669</td>\n",
       "      <td>https://m.yelp.com/biz/zyka-decatur</td>\n",
       "      <td>33.797014</td>\n",
       "      <td>-84.283603</td>\n",
       "      <td>NaN</td>\n",
       "      <td>natural</td>\n",
       "      <td>/biz/zyka-decatur</td>\n",
       "      <td>b6kJapy143QnbJieVPOHOw</td>\n",
       "      <td>deC3XO9E7td_ySUvJJJGPg</td>\n",
       "      <td>33.797014</td>\n",
       "      <td>-84.283603</td>\n",
       "    </tr>\n",
       "    <tr>\n",
       "      <th>28052</th>\n",
       "      <td>zzaam-fresh-korean-grill-bristol</td>\n",
       "      <td>Korean Ice Tea  3.5, Ramune A Japanese soda. 3...</td>\n",
       "      <td>zzaam-fresh-korean-grill-bristol</td>\n",
       "      <td>Korean</td>\n",
       "      <td>0.3 mi</td>\n",
       "      <td>Zzaam Fresh Korean Grill</td>\n",
       "      <td>$</td>\n",
       "      <td>4.28915662651</td>\n",
       "      <td>83</td>\n",
       "      <td>https://m.yelp.com/biz/zzaam-fresh-korean-gril...</td>\n",
       "      <td>41.6855246</td>\n",
       "      <td>-72.9387402</td>\n",
       "      <td>NaN</td>\n",
       "      <td>natural</td>\n",
       "      <td>/biz/zzaam-fresh-korean-grill-bristol</td>\n",
       "      <td>vrClVVv6DZiWhn3aFfbucQ</td>\n",
       "      <td>cSYz0QgZROe4yn0v447rhg</td>\n",
       "      <td>41.6855246</td>\n",
       "      <td>-72.9387402</td>\n",
       "    </tr>\n",
       "    <tr>\n",
       "      <th>28053</th>\n",
       "      <td>zzaam-fresh-korean-grill-midlothian-2</td>\n",
       "      <td>Chicken Wings Choose spicy or mild. 7.45, Eggr...</td>\n",
       "      <td>zzaam-fresh-korean-grill-midlothian-2</td>\n",
       "      <td>Korean</td>\n",
       "      <td>2.4 mi</td>\n",
       "      <td>ZZAAM Fresh Korean Grill</td>\n",
       "      <td>$</td>\n",
       "      <td>4.47058823529</td>\n",
       "      <td>51</td>\n",
       "      <td>https://m.yelp.com/biz/zzaam-fresh-korean-gril...</td>\n",
       "      <td>37.4191789368</td>\n",
       "      <td>-77.6324390191</td>\n",
       "      <td>NaN</td>\n",
       "      <td>natural</td>\n",
       "      <td>/biz/zzaam-fresh-korean-grill-midlothian-2</td>\n",
       "      <td>S1olXW4gETw7d7UbULAh5w</td>\n",
       "      <td>eamq1pHKG2GPvj7tzZ0mqg</td>\n",
       "      <td>37.4191789368</td>\n",
       "      <td>-77.6324390191</td>\n",
       "    </tr>\n",
       "    <tr>\n",
       "      <th>28054</th>\n",
       "      <td>zzan-san-francisco-2</td>\n",
       "      <td>Soda  2.5, Sparkling Water San Pellegrino. 3.5...</td>\n",
       "      <td>zzan-san-francisco-2</td>\n",
       "      <td>Korean</td>\n",
       "      <td>0.8 mi</td>\n",
       "      <td>Zzan</td>\n",
       "      <td>$$</td>\n",
       "      <td>3.5625</td>\n",
       "      <td>224</td>\n",
       "      <td>https://m.yelp.com/biz/zzan-san-francisco-2</td>\n",
       "      <td>37.7876051</td>\n",
       "      <td>-122.4123571</td>\n",
       "      <td>NaN</td>\n",
       "      <td>natural</td>\n",
       "      <td>/biz/zzan-san-francisco-2</td>\n",
       "      <td>oEJPe3ltDA7Hh1bVf56s7Q</td>\n",
       "      <td>Zr8UsryUlZuV2F1O0EEl6Q</td>\n",
       "      <td>37.7876051</td>\n",
       "      <td>-122.4123571</td>\n",
       "    </tr>\n",
       "    <tr>\n",
       "      <th>28055</th>\n",
       "      <td>zzq-richmond</td>\n",
       "      <td>Beef Brisket Per Lb 23.0, Pulled Pork Shoulder...</td>\n",
       "      <td>zzq-richmond</td>\n",
       "      <td>Barbeque</td>\n",
       "      <td>5.3 mi</td>\n",
       "      <td>ZZQ</td>\n",
       "      <td>$$</td>\n",
       "      <td>4.33419689119</td>\n",
       "      <td>386</td>\n",
       "      <td>https://m.yelp.com/biz/zzq-richmond</td>\n",
       "      <td>37.568638</td>\n",
       "      <td>-77.4715192</td>\n",
       "      <td>NaN</td>\n",
       "      <td>natural</td>\n",
       "      <td>/biz/zzq-richmond</td>\n",
       "      <td>mOIS-n4z2hHM-tvpXGUpRQ</td>\n",
       "      <td>_hdrAzy1Zyyq0DRiPCSwJQ</td>\n",
       "      <td>37.568638</td>\n",
       "      <td>-77.4715192</td>\n",
       "    </tr>\n",
       "  </tbody>\n",
       "</table>\n",
       "<p>28056 rows × 19 columns</p>\n",
       "</div>"
      ],
      "text/plain": [
       "                                        slug  \\\n",
       "0                                       slug   \n",
       "1         1-2-3-pho-and-asian-cafe-englewood   \n",
       "2               1-chinese-kitchen-san-jose-2   \n",
       "3                   1-columbia-deli-new-york   \n",
       "4      10-barrel-brewing-san-diego-san-diego   \n",
       "...                                      ...   \n",
       "28051                           zyka-decatur   \n",
       "28052       zzaam-fresh-korean-grill-bristol   \n",
       "28053  zzaam-fresh-korean-grill-midlothian-2   \n",
       "28054                   zzan-san-francisco-2   \n",
       "28055                           zzq-richmond   \n",
       "\n",
       "                                                    menu  \\\n",
       "0                                                   menu   \n",
       "1      A1. Vietnamese Crispy Spring Rolls 3 piece. 6....   \n",
       "2      Thai Iced Tea  4.5, Vietnamese Iced Coffee  4....   \n",
       "3      S1. Mango Sunrise Smoothie Mango, pineapple, b...   \n",
       "4      Apocalypse IPA He send is near. Apocalypse is ...   \n",
       "...                                                  ...   \n",
       "28051  Tandoori Chicken chicken leg quarter marinated...   \n",
       "28052  Korean Ice Tea  3.5, Ramune A Japanese soda. 3...   \n",
       "28053  Chicken Wings Choose spicy or mild. 7.45, Eggr...   \n",
       "28054  Soda  2.5, Sparkling Water San Pellegrino. 3.5...   \n",
       "28055  Beef Brisket Per Lb 23.0, Pulled Pork Shoulder...   \n",
       "\n",
       "                                      slug.1  \\\n",
       "0                                       slug   \n",
       "1         1-2-3-pho-and-asian-cafe-englewood   \n",
       "2               1-chinese-kitchen-san-jose-2   \n",
       "3                   1-columbia-deli-new-york   \n",
       "4      10-barrel-brewing-san-diego-san-diego   \n",
       "...                                      ...   \n",
       "28051                           zyka-decatur   \n",
       "28052       zzaam-fresh-korean-grill-bristol   \n",
       "28053  zzaam-fresh-korean-grill-midlothian-2   \n",
       "28054                   zzan-san-francisco-2   \n",
       "28055                           zzq-richmond   \n",
       "\n",
       "                                    categories  distance  \\\n",
       "0                                   categories  distance   \n",
       "1              Vietnamese, Chinese, Sushi Bars    5.6 mi   \n",
       "2                            Chinese, Caterers    0.5 mi   \n",
       "3                                        Delis    0.2 mi   \n",
       "4      Breweries, Pubs, American (Traditional)    2.1 mi   \n",
       "...                                        ...       ...   \n",
       "28051                        Indian, Pakistani   11.0 mi   \n",
       "28052                                   Korean    0.3 mi   \n",
       "28053                                   Korean    2.4 mi   \n",
       "28054                                   Korean    0.8 mi   \n",
       "28055                                 Barbeque    5.3 mi   \n",
       "\n",
       "                                name  price_level         rating  \\\n",
       "0                               name  price_level         rating   \n",
       "1             1 2 3 Pho & Asian Cafe           $$  3.50993377483   \n",
       "2                 #1 Chinese Kitchen            $  3.70448548813   \n",
       "3                   #1 Columbia Deli          NaN            NaN   \n",
       "4      10 Barrel Brewing - San Diego           $$  4.52427184466   \n",
       "...                              ...          ...            ...   \n",
       "28051                           Zyka           $$   3.8908819133   \n",
       "28052       Zzaam Fresh Korean Grill            $  4.28915662651   \n",
       "28053       ZZAAM Fresh Korean Grill            $  4.47058823529   \n",
       "28054                           Zzan           $$         3.5625   \n",
       "28055                            ZZQ           $$  4.33419689119   \n",
       "\n",
       "       review_count                                                url  \\\n",
       "0      review_count                                                url   \n",
       "1               151  https://m.yelp.com/biz/1-2-3-pho-and-asian-caf...   \n",
       "2               379  https://m.yelp.com/biz/1-chinese-kitchen-san-j...   \n",
       "3                 0    https://m.yelp.com/biz/1-columbia-deli-new-york   \n",
       "4               412  https://m.yelp.com/biz/10-barrel-brewing-san-d...   \n",
       "...             ...                                                ...   \n",
       "28051           669                https://m.yelp.com/biz/zyka-decatur   \n",
       "28052            83  https://m.yelp.com/biz/zzaam-fresh-korean-gril...   \n",
       "28053            51  https://m.yelp.com/biz/zzaam-fresh-korean-gril...   \n",
       "28054           224        https://m.yelp.com/biz/zzan-san-francisco-2   \n",
       "28055           386                https://m.yelp.com/biz/zzq-richmond   \n",
       "\n",
       "                 lat             lng  Sp1     type  \\\n",
       "0                lat             lng  Sp1     type   \n",
       "1         39.5368356    -104.8536173  NaN  natural   \n",
       "2       37.252168258  -121.831224679  NaN  natural   \n",
       "3         40.8117962     -73.9576436  NaN  natural   \n",
       "4      32.7145590497  -117.150228582  NaN  natural   \n",
       "...              ...             ...  ...      ...   \n",
       "28051      33.797014      -84.283603  NaN  natural   \n",
       "28052     41.6855246     -72.9387402  NaN  natural   \n",
       "28053  37.4191789368  -77.6324390191  NaN  natural   \n",
       "28054     37.7876051    -122.4123571  NaN  natural   \n",
       "28055      37.568638     -77.4715192  NaN  natural   \n",
       "\n",
       "                                          homeurl            resource_id1  \\\n",
       "0                                         homeurl            resource_id1   \n",
       "1         /biz/1-2-3-pho-and-asian-cafe-englewood  dVsoRXXEeYslIq3egO984Q   \n",
       "2               /biz/1-chinese-kitchen-san-jose-2  _us5qOY9AafKtmBdje6mIg   \n",
       "3                   /biz/1-columbia-deli-new-york  ZJRC1aIv4CIG6qMKZCR2bQ   \n",
       "4      /biz/10-barrel-brewing-san-diego-san-diego  8nEOrZJXEPbB7omJwyM1JQ   \n",
       "...                                           ...                     ...   \n",
       "28051                           /biz/zyka-decatur  b6kJapy143QnbJieVPOHOw   \n",
       "28052       /biz/zzaam-fresh-korean-grill-bristol  vrClVVv6DZiWhn3aFfbucQ   \n",
       "28053  /biz/zzaam-fresh-korean-grill-midlothian-2  S1olXW4gETw7d7UbULAh5w   \n",
       "28054                   /biz/zzan-san-francisco-2  oEJPe3ltDA7Hh1bVf56s7Q   \n",
       "28055                           /biz/zzq-richmond  mOIS-n4z2hHM-tvpXGUpRQ   \n",
       "\n",
       "                 resource_id2           lat2            lng2  \n",
       "0                resource_id2           lat2            lng2  \n",
       "1      M0loTtLIh4F4gCinGTaCsA     39.5368356    -104.8536173  \n",
       "2      TsIah2X2urWVxVP4nrwhFA   37.252168258  -121.831224679  \n",
       "3      3hiuYqihbILBQ7EZCp19ZQ     40.8117962     -73.9576436  \n",
       "4      Xm502NvgzMVjdue1JAkejw  32.7145590497  -117.150228582  \n",
       "...                       ...            ...             ...  \n",
       "28051  deC3XO9E7td_ySUvJJJGPg      33.797014      -84.283603  \n",
       "28052  cSYz0QgZROe4yn0v447rhg     41.6855246     -72.9387402  \n",
       "28053  eamq1pHKG2GPvj7tzZ0mqg  37.4191789368  -77.6324390191  \n",
       "28054  Zr8UsryUlZuV2F1O0EEl6Q     37.7876051    -122.4123571  \n",
       "28055  _hdrAzy1Zyyq0DRiPCSwJQ      37.568638     -77.4715192  \n",
       "\n",
       "[28056 rows x 19 columns]"
      ]
     },
     "execution_count": 11,
     "metadata": {},
     "output_type": "execute_result"
    }
   ],
   "source": [
    "import pandas as pd\n",
    "\n",
    "data = pd.read_csv(local_data_path, sep=',')\n",
    "pd.set_option('display.max_columns', 500)     # Make sure we can see all of the columns\n",
    "pd.set_option('display.max_rows', 10)         # Keep the output on one page\n",
    "data"
   ]
  },
  {
   "cell_type": "markdown",
   "metadata": {},
   "source": [
    "### Reserve some data for calling batch inference on the model\n",
    "\n",
    "Divide the data into training and testing splits. The training split is used by SageMaker Autopilot. The testing split is reserved to perform inference using the suggested model.\n"
   ]
  },
  {
   "cell_type": "code",
   "execution_count": 12,
   "metadata": {},
   "outputs": [],
   "source": [
    "train_data = data.sample(frac=0.8,random_state=200)\n",
    "\n",
    "test_data = data.drop(train_data.index)\n",
    "\n",
    "test_data_no_target = test_data.drop(columns=['rating'])"
   ]
  },
  {
   "cell_type": "markdown",
   "metadata": {},
   "source": [
    "### Upload the dataset to Amazon S3\n",
    "Copy the file to Amazon Simple Storage Service (Amazon S3) in a .csv format for Amazon SageMaker training to use."
   ]
  },
  {
   "cell_type": "code",
   "execution_count": 14,
   "metadata": {},
   "outputs": [
    {
     "name": "stdout",
     "output_type": "stream",
     "text": [
      "Train data uploaded to: s3://sagemaker-us-east-1-644944822023/sagemaker/autopilot-dm/train/train_data.csv\n",
      "Test data (no target) uploaded to: s3://sagemaker-us-east-1-644944822023/sagemaker/autopilot-dm/test/test_data.csv\n",
      "Test data (with target) uploaded to: s3://sagemaker-us-east-1-644944822023/sagemaker/autopilot-dm/test/test_data_with_target.csv\n"
     ]
    }
   ],
   "source": [
    "train_file = 'train_data.csv';\n",
    "train_data.to_csv(train_file, index=False, header=True)\n",
    "train_data_s3_path = session.upload_data(path=train_file, key_prefix=prefix + \"/train\")\n",
    "print('Train data uploaded to: ' + train_data_s3_path)\n",
    "\n",
    "test_file = 'test_data.csv';\n",
    "test_data_no_target.to_csv(test_file, index=False, header=False)\n",
    "test_data_s3_path = session.upload_data(path=test_file, key_prefix=prefix + \"/test\")\n",
    "print('Test data (no target) uploaded to: ' + test_data_s3_path)\n",
    "\n",
    "test_file_with_target = 'test_data_with_target.csv';\n",
    "test_data.to_csv(test_file_with_target, index=False, header=False)\n",
    "test_data_with_target_s3_path = session.upload_data(path=test_file_with_target, key_prefix=prefix + \"/test\")\n",
    "print('Test data (with target) uploaded to: ' + test_data_with_target_s3_path)"
   ]
  },
  {
   "cell_type": "markdown",
   "metadata": {},
   "source": [
    "## Setting up the SageMaker Autopilot Job<a name=\"Settingup\"></a>\n",
    "\n",
    "After uploading the dataset to Amazon S3, you can invoke Autopilot to find the best ML pipeline to train a model on this dataset. "
   ]
  },
  {
   "cell_type": "code",
   "execution_count": 15,
   "metadata": {},
   "outputs": [],
   "source": [
    "input_data_config = [{\n",
    "      'DataSource': {\n",
    "        'S3DataSource': {\n",
    "          'S3DataType': 'S3Prefix',\n",
    "          'S3Uri': 's3://{}/{}/train'.format(bucket,prefix)\n",
    "        }\n",
    "      },\n",
    "      'TargetAttributeName': 'rating'\n",
    "    }\n",
    "  ]\n",
    "\n",
    "output_data_config = {\n",
    "    'S3OutputPath': 's3://{}/{}/output'.format(bucket,prefix)\n",
    "  }"
   ]
  },
  {
   "cell_type": "markdown",
   "metadata": {},
   "source": [
    "## Launching the SageMaker Autopilot Job<a name=\"Launching\"></a>\n",
    "\n",
    "You can now launch the Autopilot job by calling the `create_auto_ml_job` API. "
   ]
  },
  {
   "cell_type": "code",
   "execution_count": 16,
   "metadata": {},
   "outputs": [
    {
     "name": "stdout",
     "output_type": "stream",
     "text": [
      "AutoMLJobName: automl-banking-15-02-06-41\n"
     ]
    },
    {
     "data": {
      "text/plain": [
       "{u'AutoMLJobArn': u'arn:aws:sagemaker:us-east-1:644944822023:automl-job/automl-banking-15-02-06-41',\n",
       " 'ResponseMetadata': {'HTTPHeaders': {'content-length': '97',\n",
       "   'content-type': 'application/x-amz-json-1.1',\n",
       "   'date': 'Sun, 15 Dec 2019 02:06:42 GMT',\n",
       "   'x-amzn-requestid': '61ff4b80-c542-4756-92e6-7d0f86aca8ee'},\n",
       "  'HTTPStatusCode': 200,\n",
       "  'RequestId': '61ff4b80-c542-4756-92e6-7d0f86aca8ee',\n",
       "  'RetryAttempts': 0}}"
      ]
     },
     "execution_count": 16,
     "metadata": {},
     "output_type": "execute_result"
    }
   ],
   "source": [
    "from time import gmtime, strftime, sleep\n",
    "timestamp_suffix = strftime('%d-%H-%M-%S', gmtime())\n",
    "\n",
    "auto_ml_job_name = 'automl-banking-' + timestamp_suffix\n",
    "print('AutoMLJobName: ' + auto_ml_job_name)\n",
    "\n",
    "sm.create_auto_ml_job(AutoMLJobName=auto_ml_job_name,\n",
    "                      InputDataConfig=input_data_config,\n",
    "                      OutputDataConfig=output_data_config,\n",
    "                      RoleArn=role)"
   ]
  },
  {
   "cell_type": "markdown",
   "metadata": {},
   "source": [
    "## Tracking SageMaker Autopilot job progress<a name=\"Tracking\"></a>\n",
    "SageMaker Autopilot job consists of the following high-level steps : \n",
    "* Analyzing Data, where the dataset is analyzed and Autopilot comes up with a list of ML pipelines that should be tried out on the dataset. The dataset is also split into train and validation sets.\n",
    "* Feature Engineering, where Autopilot performs feature transformation on individual features of the dataset as well as at an aggregate level.\n",
    "* Model Tuning, where the top performing pipeline is selected along with the optimal hyperparameters for the training algorithm (the last stage of the pipeline). "
   ]
  },
  {
   "cell_type": "code",
   "execution_count": 20,
   "metadata": {
    "scrolled": false
   },
   "outputs": [
    {
     "name": "stdout",
     "output_type": "stream",
     "text": [
      "JobStatus - Secondary Status\n",
      "------------------------------\n",
      "Completed - MaxCandidatesReached\n"
     ]
    }
   ],
   "source": [
    "print ('JobStatus - Secondary Status')\n",
    "print('------------------------------')\n",
    "\n",
    "\n",
    "describe_response = sm.describe_auto_ml_job(AutoMLJobName=auto_ml_job_name)\n",
    "print (describe_response['AutoMLJobStatus'] + \" - \" + describe_response['AutoMLJobSecondaryStatus'])\n",
    "job_run_status = describe_response['AutoMLJobStatus']\n",
    "    \n",
    "while job_run_status not in ('Failed', 'Completed', 'Stopped'):\n",
    "    describe_response = sm.describe_auto_ml_job(AutoMLJobName=auto_ml_job_name)\n",
    "    job_run_status = describe_response['AutoMLJobStatus']\n",
    "    \n",
    "    print (describe_response['AutoMLJobStatus'] + \" - \" + describe_response['AutoMLJobSecondaryStatus'])\n",
    "    sleep(30)"
   ]
  },
  {
   "cell_type": "markdown",
   "metadata": {
    "toc-hr-collapsed": true
   },
   "source": [
    "## Results\n",
    "\n",
    "Now use the describe_auto_ml_job API to look up the best candidate selected by the SageMaker Autopilot job. "
   ]
  },
  {
   "cell_type": "code",
   "execution_count": 21,
   "metadata": {},
   "outputs": [
    {
     "name": "stdout",
     "output_type": "stream",
     "text": [
      "{u'CandidateStatus': u'Completed', u'ObjectiveStatus': u'Succeeded', u'CandidateSteps': [{u'CandidateStepType': u'AWS::SageMaker::ProcessingJob', u'CandidateStepName': u'db-1-e2fb48781e6f405e90113e03af83f937c306c96b0af64264bfbf4abfb2', u'CandidateStepArn': u'arn:aws:sagemaker:us-east-1:644944822023:processing-job/db-1-e2fb48781e6f405e90113e03af83f937c306c96b0af64264bfbf4abfb2'}, {u'CandidateStepType': u'AWS::SageMaker::TrainingJob', u'CandidateStepName': u'automl-ban-dpp1-1-fa2cede8962b4cb48bfb2882e31367ba4261e10ff8c34', u'CandidateStepArn': u'arn:aws:sagemaker:us-east-1:644944822023:training-job/automl-ban-dpp1-1-fa2cede8962b4cb48bfb2882e31367ba4261e10ff8c34'}, {u'CandidateStepType': u'AWS::SageMaker::TransformJob', u'CandidateStepName': u'automl-ban-dpp1-rpb-1-af7165d4cec34704864b676fcbe354f35862807a3', u'CandidateStepArn': u'arn:aws:sagemaker:us-east-1:644944822023:transform-job/automl-ban-dpp1-rpb-1-af7165d4cec34704864b676fcbe354f35862807a3'}, {u'CandidateStepType': u'AWS::SageMaker::TrainingJob', u'CandidateStepName': u'tuning-job-1-25c50953778448b786-215-cdf045eb', u'CandidateStepArn': u'arn:aws:sagemaker:us-east-1:644944822023:training-job/tuning-job-1-25c50953778448b786-215-cdf045eb'}], u'CreationTime': datetime.datetime(2019, 12, 15, 4, 17, 59, 227000, tzinfo=tzlocal()), u'InferenceContainers': [{u'Environment': {u'SAGEMAKER_PROGRAM': u'sagemaker_serve', u'SAGEMAKER_DEFAULT_INVOCATIONS_ACCEPT': u'application/x-recordio-protobuf', u'AUTOML_TRANSFORM_MODE': u'feature-transform', u'SAGEMAKER_SUBMIT_DIRECTORY': u'/opt/ml/model/sagemaker_serve.py', u'AUTOML_SPARSE_ENCODE_RECORDIO_PROTOBUF': u'1'}, u'Image': u'683313688378.dkr.ecr.us-east-1.amazonaws.com/sagemaker-sklearn-automl:0.1.0-cpu-py3', u'ModelDataUrl': u's3://sagemaker-us-east-1-644944822023/sagemaker/autopilot-dm/output/automl-banking-15-02-06-41/data-processor-models/automl-ban-dpp1-1-fa2cede8962b4cb48bfb2882e31367ba4261e10ff8c34/output/model.tar.gz'}, {u'Environment': {u'MAX_CONTENT_LENGTH': u'20971520', u'SAGEMAKER_DEFAULT_INVOCATIONS_ACCEPT': u'text/csv'}, u'Image': u'683313688378.dkr.ecr.us-east-1.amazonaws.com/sagemaker-xgboost:0.90-1-cpu-py3', u'ModelDataUrl': u's3://sagemaker-us-east-1-644944822023/sagemaker/autopilot-dm/output/automl-banking-15-02-06-41/tuning/automl-ban-dpp1-xgb/tuning-job-1-25c50953778448b786-215-cdf045eb/output/model.tar.gz'}], u'CandidateName': u'tuning-job-1-25c50953778448b786-215-cdf045eb', u'LastModifiedTime': datetime.datetime(2019, 12, 15, 4, 17, 59, 227000, tzinfo=tzlocal()), u'FinalAutoMLJobObjectiveMetric': {u'Value': 0.23974500596523285, u'MetricName': u'validation:mse'}}\n",
      "\n",
      "\n",
      "CandidateName: tuning-job-1-25c50953778448b786-215-cdf045eb\n",
      "FinalAutoMLJobObjectiveMetricName: validation:mse\n",
      "FinalAutoMLJobObjectiveMetricValue: 0.239745005965\n"
     ]
    }
   ],
   "source": [
    "best_candidate = sm.describe_auto_ml_job(AutoMLJobName=auto_ml_job_name)['BestCandidate']\n",
    "best_candidate_name = best_candidate['CandidateName']\n",
    "print(best_candidate)\n",
    "print('\\n')\n",
    "print(\"CandidateName: \" + best_candidate_name)\n",
    "print(\"FinalAutoMLJobObjectiveMetricName: \" + best_candidate['FinalAutoMLJobObjectiveMetric']['MetricName'])\n",
    "print(\"FinalAutoMLJobObjectiveMetricValue: \" + str(best_candidate['FinalAutoMLJobObjectiveMetric']['Value']))"
   ]
  },
  {
   "cell_type": "markdown",
   "metadata": {
    "toc-hr-collapsed": false
   },
   "source": [
    "### Perform batch inference using the best candidate\n",
    "\n",
    "Now that you have successfully completed the SageMaker Autopilot job on the dataset, create a model from any of the candidates by using [Inference Pipelines](https://docs.aws.amazon.com/sagemaker/latest/dg/inference-pipelines.html). "
   ]
  },
  {
   "cell_type": "code",
   "execution_count": 22,
   "metadata": {},
   "outputs": [
    {
     "name": "stdout",
     "output_type": "stream",
     "text": [
      "Model ARN corresponding to the best candidate is : arn:aws:sagemaker:us-east-1:644944822023:model/automl-banking-model-15-02-06-41\n"
     ]
    }
   ],
   "source": [
    "model_name = 'automl-banking-model-' + timestamp_suffix\n",
    "\n",
    "model = sm.create_model(Containers=best_candidate['InferenceContainers'],\n",
    "                            ModelName=model_name,\n",
    "                            ExecutionRoleArn=role)\n",
    "\n",
    "print('Model ARN corresponding to the best candidate is : {}'.format(model['ModelArn']))"
   ]
  },
  {
   "cell_type": "markdown",
   "metadata": {},
   "source": [
    "You can use batch inference by using Amazon SageMaker batch transform. The same model can also be deployed to perform online inference using Amazon SageMaker hosting."
   ]
  },
  {
   "cell_type": "code",
   "execution_count": 23,
   "metadata": {
    "scrolled": true
   },
   "outputs": [
    {
     "data": {
      "text/plain": [
       "{'ResponseMetadata': {'HTTPHeaders': {'content-length': '113',\n",
       "   'content-type': 'application/x-amz-json-1.1',\n",
       "   'date': 'Sun, 15 Dec 2019 04:47:19 GMT',\n",
       "   'x-amzn-requestid': 'f9e41b2d-bada-48f3-9e42-01e341ceda8f'},\n",
       "  'HTTPStatusCode': 200,\n",
       "  'RequestId': 'f9e41b2d-bada-48f3-9e42-01e341ceda8f',\n",
       "  'RetryAttempts': 0},\n",
       " u'TransformJobArn': u'arn:aws:sagemaker:us-east-1:644944822023:transform-job/automl-banking-transform-15-02-06-41'}"
      ]
     },
     "execution_count": 23,
     "metadata": {},
     "output_type": "execute_result"
    }
   ],
   "source": [
    "transform_job_name = 'automl-banking-transform-' + timestamp_suffix\n",
    "\n",
    "transform_input = {\n",
    "        'DataSource': {\n",
    "            'S3DataSource': {\n",
    "                'S3DataType': 'S3Prefix',\n",
    "                'S3Uri': test_data_s3_path\n",
    "            }\n",
    "        },\n",
    "        'ContentType': 'text/csv',\n",
    "        'CompressionType': 'None',\n",
    "        'SplitType': 'Line'\n",
    "    }\n",
    "\n",
    "transform_output = {\n",
    "        'S3OutputPath': 's3://{}/{}/inference-results'.format(bucket,prefix),\n",
    "    }\n",
    "\n",
    "transform_resources = {\n",
    "        'InstanceType': 'ml.m5.4xlarge',\n",
    "        'InstanceCount': 1\n",
    "    }\n",
    "\n",
    "sm.create_transform_job(TransformJobName = transform_job_name,\n",
    "                        ModelName = model_name,\n",
    "                        TransformInput = transform_input,\n",
    "                        TransformOutput = transform_output,\n",
    "                        TransformResources = transform_resources\n",
    ")"
   ]
  },
  {
   "cell_type": "markdown",
   "metadata": {},
   "source": [
    "Watch the transform job for completion."
   ]
  },
  {
   "cell_type": "code",
   "execution_count": 24,
   "metadata": {},
   "outputs": [
    {
     "name": "stdout",
     "output_type": "stream",
     "text": [
      "JobStatus\n",
      "----------\n",
      "InProgress\n",
      "InProgress\n",
      "InProgress\n",
      "InProgress\n",
      "InProgress\n",
      "InProgress\n",
      "InProgress\n",
      "InProgress\n",
      "InProgress\n",
      "Completed\n"
     ]
    }
   ],
   "source": [
    "print ('JobStatus')\n",
    "print('----------')\n",
    "\n",
    "\n",
    "describe_response = sm.describe_transform_job(TransformJobName = transform_job_name)\n",
    "job_run_status = describe_response['TransformJobStatus']\n",
    "print (job_run_status)\n",
    "\n",
    "while job_run_status not in ('Failed', 'Completed', 'Stopped'):\n",
    "    describe_response = sm.describe_transform_job(TransformJobName = transform_job_name)\n",
    "    job_run_status = describe_response['TransformJobStatus']\n",
    "    print (job_run_status)\n",
    "    sleep(30)"
   ]
  },
  {
   "cell_type": "markdown",
   "metadata": {},
   "source": [
    "Now let's view the results of the transform job:"
   ]
  },
  {
   "cell_type": "code",
   "execution_count": 25,
   "metadata": {},
   "outputs": [
    {
     "data": {
      "text/html": [
       "<div>\n",
       "<style scoped>\n",
       "    .dataframe tbody tr th:only-of-type {\n",
       "        vertical-align: middle;\n",
       "    }\n",
       "\n",
       "    .dataframe tbody tr th {\n",
       "        vertical-align: top;\n",
       "    }\n",
       "\n",
       "    .dataframe thead th {\n",
       "        text-align: right;\n",
       "    }\n",
       "</style>\n",
       "<table border=\"1\" class=\"dataframe\">\n",
       "  <thead>\n",
       "    <tr style=\"text-align: right;\">\n",
       "      <th></th>\n",
       "      <th>0.20951581001281738</th>\n",
       "    </tr>\n",
       "  </thead>\n",
       "  <tbody>\n",
       "    <tr>\n",
       "      <th>0</th>\n",
       "      <td>3.989051</td>\n",
       "    </tr>\n",
       "    <tr>\n",
       "      <th>1</th>\n",
       "      <td>4.166936</td>\n",
       "    </tr>\n",
       "    <tr>\n",
       "      <th>2</th>\n",
       "      <td>4.001935</td>\n",
       "    </tr>\n",
       "    <tr>\n",
       "      <th>3</th>\n",
       "      <td>0.191046</td>\n",
       "    </tr>\n",
       "    <tr>\n",
       "      <th>4</th>\n",
       "      <td>3.679652</td>\n",
       "    </tr>\n",
       "    <tr>\n",
       "      <th>...</th>\n",
       "      <td>...</td>\n",
       "    </tr>\n",
       "    <tr>\n",
       "      <th>5605</th>\n",
       "      <td>4.106693</td>\n",
       "    </tr>\n",
       "    <tr>\n",
       "      <th>5606</th>\n",
       "      <td>3.653477</td>\n",
       "    </tr>\n",
       "    <tr>\n",
       "      <th>5607</th>\n",
       "      <td>3.850721</td>\n",
       "    </tr>\n",
       "    <tr>\n",
       "      <th>5608</th>\n",
       "      <td>3.877154</td>\n",
       "    </tr>\n",
       "    <tr>\n",
       "      <th>5609</th>\n",
       "      <td>3.887571</td>\n",
       "    </tr>\n",
       "  </tbody>\n",
       "</table>\n",
       "<p>5610 rows × 1 columns</p>\n",
       "</div>"
      ],
      "text/plain": [
       "      0.20951581001281738\n",
       "0                3.989051\n",
       "1                4.166936\n",
       "2                4.001935\n",
       "3                0.191046\n",
       "4                3.679652\n",
       "...                   ...\n",
       "5605             4.106693\n",
       "5606             3.653477\n",
       "5607             3.850721\n",
       "5608             3.877154\n",
       "5609             3.887571\n",
       "\n",
       "[5610 rows x 1 columns]"
      ]
     },
     "execution_count": 25,
     "metadata": {},
     "output_type": "execute_result"
    }
   ],
   "source": [
    "s3_output_key = '{}/inference-results/test_data.csv.out'.format(prefix);\n",
    "local_inference_results_path = 'inference_results.csv'\n",
    "\n",
    "s3 = boto3.resource('s3')\n",
    "inference_results_bucket = s3.Bucket(session.default_bucket())\n",
    "\n",
    "inference_results_bucket.download_file(s3_output_key, local_inference_results_path);\n",
    "\n",
    "data = pd.read_csv(local_inference_results_path, sep=';')\n",
    "pd.set_option('display.max_rows', 10)         # Keep the output on one page\n",
    "data"
   ]
  },
  {
   "cell_type": "markdown",
   "metadata": {},
   "source": [
    "### View other candidates explored by SageMaker Autopilot\n",
    "You can view all the candidates (pipeline evaluations with different hyperparameter combinations) that were explored by SageMaker Autopilot and sort them by their final performance metric."
   ]
  },
  {
   "cell_type": "code",
   "execution_count": 26,
   "metadata": {},
   "outputs": [
    {
     "name": "stdout",
     "output_type": "stream",
     "text": [
      "1  tuning-job-1-25c50953778448b786-241-edc053e3  0.246413007379validation:mse\n",
      "2  tuning-job-1-25c50953778448b786-243-50f675dd  0.286435991526validation:mse\n",
      "3  tuning-job-1-25c50953778448b786-244-e42b455d  0.291945010424validation:mse\n",
      "4  tuning-job-1-25c50953778448b786-245-06af7714  0.326144993305validation:mse\n",
      "5  tuning-job-1-25c50953778448b786-246-123af794  0.302026987076validation:mse\n",
      "6  tuning-job-1-25c50953778448b786-247-2d89fa85  0.267668992281validation:mse\n",
      "7  tuning-job-1-25c50953778448b786-248-47a2fcc4  0.37551599741validation:mse\n",
      "8  tuning-job-1-25c50953778448b786-249-82dc2d0e  0.290565997362validation:mse\n",
      "9  tuning-job-1-25c50953778448b786-250-c33da69b  0.290334999561validation:mse\n",
      "10  tuning-job-1-25c50953778448b786-251-9995d524  0.295363008976validation:mse\n"
     ]
    }
   ],
   "source": [
    "candidates = sm.list_candidates_for_auto_ml_job(AutoMLJobName=auto_ml_job_name)['Candidates']\n",
    "#print(repr(candidates))\n",
    "index = 1\n",
    "for candidate in candidates:\n",
    "  print (str(index) + \"  \" + candidate['CandidateName'] + \"  \" + str(candidate['FinalAutoMLJobObjectiveMetric']['Value']) + candidate['FinalAutoMLJobObjectiveMetric']['MetricName'])\n",
    "  index += 1"
   ]
  },
  {
   "cell_type": "code",
   "execution_count": 29,
   "metadata": {},
   "outputs": [
    {
     "name": "stdout",
     "output_type": "stream",
     "text": [
      "1  tuning-job-1-25c50953778448b786-028-b604dc30  1871.20068359 validation:objective_loss\n",
      "2  tuning-job-1-25c50953778448b786-027-fd64e79a  11.1486997604 validation:mse\n",
      "3  tuning-job-1-25c50953778448b786-026-7d213a7f  11.1486997604 validation:mse\n",
      "4  tuning-job-1-25c50953778448b786-018-ee070039  10.957400322 validation:mse\n",
      "5  tuning-job-1-25c50953778448b786-032-26e58250  10.7209997177 validation:mse\n",
      "6  tuning-job-1-25c50953778448b786-051-9f4e08f3  10.6714000702 validation:mse\n",
      "7  tuning-job-1-25c50953778448b786-092-febd67df  10.5369997025 validation:mse\n",
      "8  tuning-job-1-25c50953778448b786-037-df48b12a  10.4678001404 validation:mse\n",
      "9  tuning-job-1-25c50953778448b786-006-0d7717e4  9.71615982056 validation:mse\n",
      "10  tuning-job-1-25c50953778448b786-004-8cb74767  9.71409988403 validation:mse\n"
     ]
    }
   ],
   "source": [
    "candidates = sm.list_candidates_for_auto_ml_job(AutoMLJobName=auto_ml_job_name, SortBy='FinalObjectiveMetricValue')['Candidates']\n",
    "index = 1\n",
    "for candidate in candidates:\n",
    "  print (str(index) + \"  \" + candidate['CandidateName'] + \"  \" + str(candidate['FinalAutoMLJobObjectiveMetric']['Value']) + ' ' + candidate['FinalAutoMLJobObjectiveMetric']['MetricName'])\n",
    "  index += 1"
   ]
  },
  {
   "cell_type": "markdown",
   "metadata": {},
   "source": [
    "### Candidate Generation Notebook\n",
    "    \n",
    "Sagemaker AutoPilot also auto-generates a Candidate Definitions notebook. This notebook can be used to interactively step through the various steps taken by the Sagemaker Autopilot to arrive at the best candidate. This notebook can also be used to override various runtime parameters like parallelism, hardware used, algorithms explored, feature extraction scripts and more.\n",
    "    \n",
    "The notebook can be downloaded from the following Amazon S3 location:"
   ]
  },
  {
   "cell_type": "code",
   "execution_count": 30,
   "metadata": {},
   "outputs": [
    {
     "data": {
      "text/plain": [
       "u's3://sagemaker-us-east-1-644944822023/sagemaker/autopilot-dm/output/automl-banking-15-02-06-41/sagemaker-automl-candidates/pr-1-049cf12207264c6d8398f6c51b30d3081605d366b56347c6813944812c/notebooks/SageMakerAutopilotCandidateDefinitionNotebook.ipynb'"
      ]
     },
     "execution_count": 30,
     "metadata": {},
     "output_type": "execute_result"
    }
   ],
   "source": [
    "sm.describe_auto_ml_job(AutoMLJobName=auto_ml_job_name)['AutoMLJobArtifacts']['CandidateDefinitionNotebookLocation']\n"
   ]
  },
  {
   "cell_type": "markdown",
   "metadata": {},
   "source": [
    "### Data Exploration Notebook\n",
    "Sagemaker Autopilot also auto-generates a Data Exploration notebook, which can be downloaded from the following Amazon S3 location:"
   ]
  },
  {
   "cell_type": "code",
   "execution_count": 31,
   "metadata": {},
   "outputs": [
    {
     "data": {
      "text/plain": [
       "u's3://sagemaker-us-east-1-644944822023/sagemaker/autopilot-dm/output/automl-banking-15-02-06-41/sagemaker-automl-candidates/pr-1-049cf12207264c6d8398f6c51b30d3081605d366b56347c6813944812c/notebooks/SageMakerAutopilotDataExplorationNotebook.ipynb'"
      ]
     },
     "execution_count": 31,
     "metadata": {},
     "output_type": "execute_result"
    }
   ],
   "source": [
    "sm.describe_auto_ml_job(AutoMLJobName=auto_ml_job_name)['AutoMLJobArtifacts']['DataExplorationNotebookLocation']\n"
   ]
  },
  {
   "cell_type": "markdown",
   "metadata": {},
   "source": [
    "## Cleanup\n",
    "\n",
    "The Autopilot job creates many underlying artifacts such as dataset splits, preprocessing scripts, or preprocessed data, etc. This code, when un-commented, deletes them. This operation deletes all the generated models and the auto-generated notebooks as well. "
   ]
  },
  {
   "cell_type": "code",
   "execution_count": null,
   "metadata": {},
   "outputs": [],
   "source": [
    "#s3 = boto3.resource('s3')\n",
    "#bucket = s3.Bucket(bucket)\n",
    "\n",
    "#job_outputs_prefix = '{}/output/{}'.format(prefix,auto_ml_job_name)\n",
    "#bucket.objects.filter(Prefix=job_outputs_prefix).delete()"
   ]
  },
  {
   "cell_type": "code",
   "execution_count": null,
   "metadata": {},
   "outputs": [],
   "source": []
  }
 ],
 "metadata": {
  "kernelspec": {
   "display_name": "Python 2",
   "language": "python",
   "name": "python2"
  },
  "language_info": {
   "codemirror_mode": {
    "name": "ipython",
    "version": 2
   },
   "file_extension": ".py",
   "mimetype": "text/x-python",
   "name": "python",
   "nbconvert_exporter": "python",
   "pygments_lexer": "ipython2",
   "version": "2.7.16"
  }
 },
 "nbformat": 4,
 "nbformat_minor": 4
}
