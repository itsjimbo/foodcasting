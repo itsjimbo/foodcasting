{
 "cells": [
  {
   "cell_type": "code",
   "execution_count": 23,
   "metadata": {},
   "outputs": [
    {
     "name": "stdout",
     "output_type": "stream",
     "text": [
      "reading yelp_data/business.json...\n",
      "yelp_data/business.csv already exists!!!\n",
      "reading yelp_data/review.json...\n",
      "yelp_data/review.csv already exists!!!\n",
      "reading yelp_data/tip.json...\n",
      "yelp_data/tip.csv already exists!!!\n",
      "reading yelp_data/checkin.json...\n",
      "yelp_data/checkin.csv already exists!!!\n",
      "reading yelp_data/user.json...\n",
      "yelp_data/user.csv created successfully.\n"
     ]
    }
   ],
   "source": [
    "# download yelp data\n",
    "#  mv *.json ~/git/CS410/foodcasting/yelp_data   \n",
    "\n",
    "# review docs @ https://www.yelp.com/dataset/documentation/main\n",
    "# sit back and grab a cola\n",
    "import json\n",
    "import csv\n",
    "import re\n",
    "from os import path,remove\n",
    "import sys\n",
    "\n",
    "def remove_unicodes(text):\n",
    "    return re.sub('[^\\x00-\\x7F]+', ' ', text)\n",
    "\n",
    "filez = ['business','review','tip','checkin','user']\n",
    "\n",
    "# {'business_id': '', 'name': '', 'address': '', 'city': '', '': '', 'postal_code': '85016', 'latitude': 33.5221425, 'longitude': -112.0184807, 'stars': 3.0, 'review_count': 5, 'is_open': 0, 'attributes': {'GoodForKids': 'False'}, 'categories': 'Golf, Active Life', 'hours': None}\n",
    "\n",
    "def get_headers(f):\n",
    "    if f == 'business':\n",
    "        return [\"name\", \"city\", \"review_count\", \"hours\", \"categories\", \"latitude\", \"stars\", \"attributes\", \"longitude\", \"address\", \"postal_code\", \"state\", \"is_open\", \"business_id\"]\n",
    "    elif f == 'review':\n",
    "        return [\"review_id\", \"user_id\", \"date\", \"useful\", \"text\", \"cool\", \"stars\", \"business_id\", \"funny\"]\n",
    "    elif f == 'tip': \n",
    "        return [\"business_id\", \"user_id\", \"date\", \"text\", \"compliment_count\"]\n",
    "    elif f == 'checkin':\n",
    "        return [\"business_id\", \"date\"]\n",
    "    elif f == 'user':\n",
    "        return [\"user_id\", \"name\", \"review_count\", \"yelping_since\", \"friends\", \"useful\", \"funny\", \"cool\", \"fans\", \"elite\", \"average_stars\", \"compliment_hot\", \"compliment_more\", \"compliment_profile\", \"compliment_cute\", \"compliment_list\", \"compliment_note\", \"compliment_plain\", \"compliment_cool\", \"compliment_funny\", \"compliment_writer\", \"compliment_photos\"]\n",
    "    \n",
    "def asframe(f, _data):\n",
    "    data_arr = []\n",
    "    for i in get_headers(f):\n",
    "        data_arr.append(_data['{}'.format(i)])\n",
    "    return data_arr\n",
    "\n",
    "def convert_json_to_csv():\n",
    "    \n",
    "    for csv_file in filez:\n",
    "        json_file = 'yelp_data/' +csv_file +'.json'\n",
    "        csv_out= 'yelp_data/' +csv_file +'.csv'\n",
    "        print(\"reading {}...\".format(json_file))\n",
    "        if path.exists(csv_out):\n",
    "            print(\"{} already exists!!!\".format(csv_out))\n",
    "        else:\n",
    "            try:\n",
    "                with open(csv_out, 'w', encoding='utf-8', errors='replace') as file:\n",
    "                    csv_writer = csv.writer(file, lineterminator='\\n')\n",
    "                    csv_writer.writerow(get_headers(csv_file))\n",
    "                    with open(json_file, encoding='utf-8', errors='replace') as j_file:\n",
    "                        for line in j_file:\n",
    "                            data = json.loads(line)     \n",
    "                            if csv_file == 'review' or csv_file == 'tip':  \n",
    "                                data['text'] = ''.join([remove_unicodes(text) for text in data['text']])\n",
    "                            csv_writer.writerow(asframe(csv_file, data))\n",
    "\n",
    "\n",
    "                print(\"{} created successfully.\".format(csv_out))\n",
    "            except:\n",
    "                remove(csv_out)\n",
    "                print(\"Unexpected error: {}\".format(sys.exc_info()[0]))\n",
    "                raise\n",
    "                      \n",
    "convert_json_to_csv()"
   ]
  },
  {
   "cell_type": "code",
   "execution_count": null,
   "metadata": {},
   "outputs": [],
   "source": []
  }
 ],
 "metadata": {
  "kernelspec": {
   "display_name": "Python 3",
   "language": "python",
   "name": "python3"
  },
  "language_info": {
   "codemirror_mode": {
    "name": "ipython",
    "version": 3
   },
   "file_extension": ".py",
   "mimetype": "text/x-python",
   "name": "python",
   "nbconvert_exporter": "python",
   "pygments_lexer": "ipython3",
   "version": "3.7.4"
  }
 },
 "nbformat": 4,
 "nbformat_minor": 2
}
